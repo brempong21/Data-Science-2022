{
  "nbformat": 4,
  "nbformat_minor": 0,
  "metadata": {
    "colab": {
      "provenance": [],
      "authorship_tag": "ABX9TyMFOjHCdcryYDhMF6UPwsH7",
      "include_colab_link": true
    },
    "kernelspec": {
      "name": "python3",
      "display_name": "Python 3"
    },
    "language_info": {
      "name": "python"
    }
  },
  "cells": [
    {
      "cell_type": "markdown",
      "metadata": {
        "id": "view-in-github",
        "colab_type": "text"
      },
      "source": [
        "<a href=\"https://colab.research.google.com/github/brempong21/Data-Science-2022/blob/main/Untitled2.ipynb\" target=\"_parent\"><img src=\"https://colab.research.google.com/assets/colab-badge.svg\" alt=\"Open In Colab\"/></a>"
      ]
    },
    {
      "cell_type": "markdown",
      "source": [
        "Ingest\n"
      ],
      "metadata": {
        "id": "ez2clEUCmrHO"
      }
    },
    {
      "cell_type": "code",
      "execution_count": 1,
      "metadata": {
        "id": "hHgTnSylmW5Z"
      },
      "outputs": [],
      "source": []
    },
    {
      "cell_type": "markdown",
      "source": [
        "eda\n"
      ],
      "metadata": {
        "id": "kz-v10Jnmuzh"
      }
    },
    {
      "cell_type": "code",
      "source": [],
      "metadata": {
        "id": "fsT0fPYhmfNZ"
      },
      "execution_count": 2,
      "outputs": []
    },
    {
      "cell_type": "markdown",
      "source": [],
      "metadata": {
        "id": "Ds0X6iA1mm4L"
      }
    },
    {
      "cell_type": "code",
      "source": [],
      "metadata": {
        "id": "in3UNRNJmoBU"
      },
      "execution_count": null,
      "outputs": []
    },
    {
      "cell_type": "markdown",
      "source": [
        "Modeling"
      ],
      "metadata": {
        "id": "vcVTVJP5m19Y"
      }
    },
    {
      "cell_type": "code",
      "source": [],
      "metadata": {
        "id": "Yr2NzQ7Xmg0e"
      },
      "execution_count": null,
      "outputs": []
    },
    {
      "cell_type": "markdown",
      "source": [
        "Conclusion\n"
      ],
      "metadata": {
        "id": "U0YAhY4mm4Zz"
      }
    },
    {
      "cell_type": "code",
      "source": [],
      "metadata": {
        "id": "7bTMnLaPm-iT"
      },
      "execution_count": null,
      "outputs": []
    }
  ]
}